{
  "nbformat": 4,
  "nbformat_minor": 0,
  "metadata": {
    "colab": {
      "name": "BareBoneKNN_classifier.ipynb",
      "version": "0.3.2",
      "provenance": [],
      "collapsed_sections": [],
      "include_colab_link": true
    },
    "kernelspec": {
      "name": "python3",
      "display_name": "Python 3"
    }
  },
  "cells": [
    {
      "cell_type": "markdown",
      "metadata": {
        "id": "view-in-github",
        "colab_type": "text"
      },
      "source": [
        "<a href=\"https://colab.research.google.com/github/techshot25/MachineLearningPractice/blob/master/BareBoneKNN_classifier.ipynb\" target=\"_parent\"><img src=\"https://colab.research.google.com/assets/colab-badge.svg\" alt=\"Open In Colab\"/></a>"
      ]
    },
    {
      "metadata": {
        "id": "-fuLizqSCB0B",
        "colab_type": "text"
      },
      "cell_type": "markdown",
      "source": [
        "### This is my first attempt to write a simple classifier using KNN\n",
        "\n",
        "---\n",
        "\n",
        "First I have to define training data using the data sets for iris (found at https://en.wikipedia.org/wiki/Iris_flower_data_set)\n",
        "\n",
        "The $\\vec{x}$ and $y$ represent the input and output and $f(x)$ represents the classifier function. The input is a multivariable array of inputs and $y$ would be our single variable classifier (or output).   This is a simple code that takes the nearest neighbor using training data and uses that to predict the output. A more sophisticated method may be used for accuracy but this is just to practice writing the classifier itself.\n",
        "\n",
        "\n",
        "This is an example of $f(\\vec{x}_i)=y_i$ where each $\\vec{x}_i$ is an array of some input variables. "
      ]
    },
    {
      "metadata": {
        "id": "N42VzZLP6tEb",
        "colab_type": "code",
        "colab": {
          "base_uri": "https://localhost:8080/",
          "height": 51
        },
        "outputId": "b39ea4f5-20a9-4143-c07b-2a6ad30ed94f"
      },
      "cell_type": "code",
      "source": [
        "from scipy.spatial import distance\n",
        "\n",
        "def euc(a,b):\n",
        "  return distance.euclidean(a,b)\n",
        "\n",
        "class bareboneKNN():\n",
        "  def fit(self, x_train, y_train):\n",
        "    self.x_train = x_train\n",
        "    self.y_train = y_train\n",
        "    \n",
        "  def predict(self, x_test, y_test):\n",
        "    predictions = []\n",
        "    for row in x_test:\n",
        "      label = self.closest(row)\n",
        "      predictions.append(label)\n",
        "    return predictions\n",
        "  \n",
        "#single closest neighbor test\n",
        "\n",
        "  def closest(self,row):\n",
        "    best_dist = euc(row, self.x_train[0])\n",
        "    best_index = 0\n",
        "    for i in range(1, len(self.x_train)):\n",
        "      dist = euc(row, self.x_train[i])\n",
        "      if dist < best_dist:\n",
        "        best_dist = dist\n",
        "        best_index = i\n",
        "    return self.y_train[best_index]\n",
        "      \n",
        "# using iris datasets for practice\n",
        "from sklearn import datasets\n",
        "iris = datasets.load_iris()\n",
        "\n",
        "x = iris.data\n",
        "y = iris.target\n",
        "\n",
        "# split the data into training data and testing data\n",
        "from sklearn.model_selection import train_test_split\n",
        "x_train, x_test, y_train, y_test = train_test_split(x,y, test_size = 0.5)\n",
        "\n",
        "my_classifier = bareboneKNN()\n",
        "my_classifier.fit(x_train,y_train)\n",
        "predictions = my_classifier.predict(x_test,y_test)\n",
        "print(predictions)\n",
        "\n",
        "from sklearn.metrics import accuracy_score\n",
        "\n",
        "print(accuracy_score(y_test,predictions))"
      ],
      "execution_count": 20,
      "outputs": [
        {
          "output_type": "stream",
          "text": [
            "[1, 2, 1, 0, 2, 0, 0, 0, 2, 1, 0, 2, 1, 0, 1, 1, 1, 1, 0, 1, 1, 2, 0, 2, 0, 2, 0, 1, 2, 2, 0, 0, 1, 2, 2, 2, 1, 0, 2, 0, 0, 1, 1, 0, 1, 2, 2, 2, 1, 2, 0, 0, 0, 1, 1, 2, 2, 1, 1, 2, 2, 0, 1, 1, 0, 2, 0, 1, 0, 2, 2, 2, 2, 0, 2]\n",
            "0.92\n"
          ],
          "name": "stdout"
        }
      ]
    },
    {
      "metadata": {
        "id": "COqUDxQyAZxG",
        "colab_type": "text"
      },
      "cell_type": "markdown",
      "source": [
        "92% accuracy is pretty good for a very simple classifier"
      ]
    }
  ]
}