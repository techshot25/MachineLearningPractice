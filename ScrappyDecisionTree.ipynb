{
  "nbformat": 4,
  "nbformat_minor": 0,
  "metadata": {
    "colab": {
      "name": "ScrappyDecisionTree.ipynb",
      "version": "0.3.2",
      "provenance": [],
      "include_colab_link": true
    },
    "kernelspec": {
      "name": "python3",
      "display_name": "Python 3"
    }
  },
  "cells": [
    {
      "cell_type": "markdown",
      "metadata": {
        "id": "view-in-github",
        "colab_type": "text"
      },
      "source": [
        "<a href=\"https://colab.research.google.com/github/techshot25/MachineLearningPractice/blob/master/ScrappyDecisionTree.ipynb\" target=\"_parent\"><img src=\"https://colab.research.google.com/assets/colab-badge.svg\" alt=\"Open In Colab\"/></a>"
      ]
    },
    {
      "metadata": {
        "id": "UzWF940PignO",
        "colab_type": "text"
      },
      "cell_type": "markdown",
      "source": [
        "## Making a decision tree\n",
        "\n",
        "This is my attempt to design a decision tree from scratch."
      ]
    },
    {
      "metadata": {
        "id": "fbfD8DWbm-my",
        "colab_type": "code",
        "colab": {}
      },
      "cell_type": "code",
      "source": [
        "from __future__ import print_function"
      ],
      "execution_count": 0,
      "outputs": []
    },
    {
      "metadata": {
        "id": "JpF6pg_Wiemy",
        "colab_type": "code",
        "colab": {}
      },
      "cell_type": "code",
      "source": [
        "# let's make some training data where all but the last column are features \n",
        "# and the last column is the classifier\n",
        "\n",
        "training_data = [\n",
        "    ['Green', 3, 'Apple'],\n",
        "    ['Yellow', 3, 'Apple'],\n",
        "    ['Red', 1, 'Grape'],\n",
        "    ['Red', 1, 'Grape'],\n",
        "    ['Yellow', 3, 'Lemon']\n",
        "]\n",
        "\n",
        "# making labels for each column\n",
        "header = ['Color' , 'diameter' , 'label']"
      ],
      "execution_count": 0,
      "outputs": []
    },
    {
      "metadata": {
        "id": "Qm5eB6Lij7FZ",
        "colab_type": "code",
        "colab": {
          "base_uri": "https://localhost:8080/",
          "height": 51
        },
        "outputId": "cc711c3e-d59e-48e7-d5ec-9c3beb02a613"
      },
      "cell_type": "code",
      "source": [
        "# this returns the unique values for each column\n",
        "# just excludes repetitions\n",
        "# this displays uniqueness in the datasets\n",
        "\n",
        "def unique_vals(rows, col):\n",
        "  return set([row[col] for row in rows])\n",
        "\n",
        "print(unique_vals(training_data, 0))\n",
        "print(unique_vals(training_data, 1))"
      ],
      "execution_count": 4,
      "outputs": [
        {
          "output_type": "stream",
          "text": [
            "{'Yellow', 'Green', 'Red'}\n",
            "{1, 3}\n"
          ],
          "name": "stdout"
        }
      ]
    },
    {
      "metadata": {
        "id": "WEW6d97QkLms",
        "colab_type": "code",
        "colab": {
          "base_uri": "https://localhost:8080/",
          "height": 34
        },
        "outputId": "3cbf28f5-995b-494a-e3da-b34f0f5c40e4"
      },
      "cell_type": "code",
      "source": [
        "# this displays how many of each classifier are there\n",
        "\n",
        "def class_counts(rows):\n",
        "  counts = {} # start a dictionary\n",
        "  for row in rows:\n",
        "    label = row[-1]\n",
        "    if label not in counts:\n",
        "      counts[label] = 0\n",
        "    counts[label] += 1\n",
        "  return counts\n",
        "\n",
        "class_counts(training_data)"
      ],
      "execution_count": 5,
      "outputs": [
        {
          "output_type": "execute_result",
          "data": {
            "text/plain": [
              "{'Apple': 2, 'Grape': 2, 'Lemon': 1}"
            ]
          },
          "metadata": {
            "tags": []
          },
          "execution_count": 5
        }
      ]
    },
    {
      "metadata": {
        "id": "tDnF-4QKlA9W",
        "colab_type": "code",
        "colab": {
          "base_uri": "https://localhost:8080/",
          "height": 34
        },
        "outputId": "8bb78eca-2f09-4021-ab5f-94a6b46268d2"
      },
      "cell_type": "code",
      "source": [
        "# checking if the data is numeric\n",
        "\n",
        "def is_numeric(value):\n",
        "  return isinstance(value, int) or isinstance(value, float)\n",
        "\n",
        "is_numeric(training_data[0][1])"
      ],
      "execution_count": 6,
      "outputs": [
        {
          "output_type": "execute_result",
          "data": {
            "text/plain": [
              "True"
            ]
          },
          "metadata": {
            "tags": []
          },
          "execution_count": 6
        }
      ]
    },
    {
      "metadata": {
        "id": "18T-No3bln2q",
        "colab_type": "code",
        "colab": {}
      },
      "cell_type": "code",
      "source": [
        "# this is where the fun begins\n",
        "\n",
        "class Question:\n",
        "  def __init__(self,column,value):\n",
        "    self.column = column\n",
        "    self.value = value\n",
        "  \n",
        "  # type of question to ask:\n",
        "  # if numeric, then an inequality is possible\n",
        "  # else it must be an exact match\n",
        "  \n",
        "  def match(self, example):\n",
        "    val = example[self.column]\n",
        "    if is_numeric(val):\n",
        "      return val >= self.value\n",
        "    else:\n",
        "      return val == self.value\n",
        "  def __repr__(self):\n",
        "    condition = \"==\"\n",
        "    if is_numeric(self.value):\n",
        "      condition = \">=\"\n",
        "    return \"Is %s %s %s?\" % (header[self.column], condition, str(self.value))"
      ],
      "execution_count": 0,
      "outputs": []
    },
    {
      "metadata": {
        "id": "irbl8ALtmz9G",
        "colab_type": "code",
        "colab": {
          "base_uri": "https://localhost:8080/",
          "height": 34
        },
        "outputId": "3e31d83f-70e2-484d-e2e4-73e395c2e1ef"
      },
      "cell_type": "code",
      "source": [
        "# this simply returns true to check if our code works\n",
        "# it sees if the first feature is green, which is true\n",
        "\n",
        "q = Question(0,'Green')\n",
        "\n",
        "example = training_data[0]\n",
        "q.match(example)"
      ],
      "execution_count": 8,
      "outputs": [
        {
          "output_type": "execute_result",
          "data": {
            "text/plain": [
              "True"
            ]
          },
          "metadata": {
            "tags": []
          },
          "execution_count": 8
        }
      ]
    },
    {
      "metadata": {
        "id": "8HjzNXA-nMaI",
        "colab_type": "code",
        "colab": {}
      },
      "cell_type": "code",
      "source": [
        "# next is to develop a partition for our dataset\n",
        "\n",
        "def partition(rows, question):\n",
        "  true_rows, false_rows =  [], []\n",
        "  for row in rows:\n",
        "    if question.match(row):\n",
        "      true_rows.append(row)\n",
        "    else:\n",
        "      false_rows.append(row)\n",
        "  return true_rows, false_rows"
      ],
      "execution_count": 0,
      "outputs": []
    },
    {
      "metadata": {
        "id": "4mcsHmR9o01e",
        "colab_type": "code",
        "colab": {
          "base_uri": "https://localhost:8080/",
          "height": 51
        },
        "outputId": "f516a2c4-9e56-4c2c-8d13-f2a0adfffcea"
      },
      "cell_type": "code",
      "source": [
        "# checking our first tree branch with a true and false question:\n",
        "\n",
        "true_rows, false_rows = partition(training_data, Question(0, 'Red'))\n",
        "\n",
        "print(true_rows)\n",
        "\n",
        "print(false_rows)"
      ],
      "execution_count": 10,
      "outputs": [
        {
          "output_type": "stream",
          "text": [
            "[['Red', 1, 'Grape'], ['Red', 1, 'Grape']]\n",
            "[['Green', 3, 'Apple'], ['Yellow', 3, 'Apple'], ['Yellow', 3, 'Lemon']]\n"
          ],
          "name": "stdout"
        }
      ]
    },
    {
      "metadata": {
        "id": "NHNVM_ico-1N",
        "colab_type": "code",
        "colab": {
          "base_uri": "https://localhost:8080/",
          "height": 51
        },
        "outputId": "703b99b5-4194-4057-ff12-358d199d35fc"
      },
      "cell_type": "code",
      "source": [
        "#using impurities to find certainty between 0 and 1\n",
        "#lower impurity means more confidence and lower uncertainty\n",
        "\n",
        "def gini(rows):\n",
        "  counts = class_counts(rows)\n",
        "  impurity = 1\n",
        "  for lbl in counts:\n",
        "    prob_of_lbl = counts[lbl] / float(len(rows))\n",
        "    impurity -= prob_of_lbl**2\n",
        "  return impurity\n",
        "\n",
        "#another way to think of this is the estimate for confidence intervals from p&s\n",
        "\n",
        "no_mixing = [\n",
        "    ['Apple'],['Apple']\n",
        "]\n",
        "\n",
        "lots_of_mixing = [\n",
        "    ['Apple'],['Orange'],['Grape'],['Blueberry'],['Blackberry']\n",
        "]\n",
        "\n",
        "print(gini(no_mixing))\n",
        "print(gini(lots_of_mixing))"
      ],
      "execution_count": 13,
      "outputs": [
        {
          "output_type": "stream",
          "text": [
            "0.0\n",
            "0.7999999999999998\n"
          ],
          "name": "stdout"
        }
      ]
    },
    {
      "metadata": {
        "id": "AH38IPtXTZAY",
        "colab_type": "code",
        "colab": {
          "base_uri": "https://localhost:8080/",
          "height": 34
        },
        "outputId": "5786e4e4-5d0d-481e-e190-ba3a38809b41"
      },
      "cell_type": "code",
      "source": [
        "# gaining information allows us to take the next step, now we can move on\n",
        "\n",
        "def info_gain(left, right, current_uncertainty):\n",
        "  p = float(len(left)) / (len(left)+len(right))\n",
        "  return current_uncertainty - p * gini(left) - (1-p)* gini(right)\n",
        "\n",
        "current_uncertainty = gini(training_data)\n",
        "\n",
        "print(current_uncertainty)"
      ],
      "execution_count": 14,
      "outputs": [
        {
          "output_type": "stream",
          "text": [
            "0.6399999999999999\n"
          ],
          "name": "stdout"
        }
      ]
    },
    {
      "metadata": {
        "id": "W1Pa8IacUap_",
        "colab_type": "code",
        "colab": {
          "base_uri": "https://localhost:8080/",
          "height": 34
        },
        "outputId": "22994d94-da44-48dc-e21b-e214f159bfab"
      },
      "cell_type": "code",
      "source": [
        "# how much info did we gain by partitioning \"Green\"?\n",
        "\n",
        "true_rows, false_rows = partition(training_data, Question(0,'Green'))\n",
        "info_gain(true_rows, false_rows, current_uncertainty)"
      ],
      "execution_count": 15,
      "outputs": [
        {
          "output_type": "execute_result",
          "data": {
            "text/plain": [
              "0.1399999999999999"
            ]
          },
          "metadata": {
            "tags": []
          },
          "execution_count": 15
        }
      ]
    },
    {
      "metadata": {
        "id": "9xt4zQeKUwQ5",
        "colab_type": "code",
        "colab": {
          "base_uri": "https://localhost:8080/",
          "height": 34
        },
        "outputId": "9eee0b4a-8c35-45be-abf4-7b6cf889051c"
      },
      "cell_type": "code",
      "source": [
        "# how much info did we gain by partitioning \"red\"?\n",
        "\n",
        "true_rows, false_rows = partition(training_data, Question(0,'Red'))\n",
        "info_gain(true_rows, false_rows, current_uncertainty)"
      ],
      "execution_count": 16,
      "outputs": [
        {
          "output_type": "execute_result",
          "data": {
            "text/plain": [
              "0.37333333333333324"
            ]
          },
          "metadata": {
            "tags": []
          },
          "execution_count": 16
        }
      ]
    },
    {
      "metadata": {
        "id": "GnH2_ADIU3K8",
        "colab_type": "code",
        "colab": {
          "base_uri": "https://localhost:8080/",
          "height": 51
        },
        "outputId": "0571c8da-9f80-41a7-9242-282e975099d6"
      },
      "cell_type": "code",
      "source": [
        "# we gained more info by partitioning red.\n",
        "# to illustrate, let's split into true and false with this partition\n",
        "\n",
        "print(true_rows)\n",
        "print(false_rows)"
      ],
      "execution_count": 17,
      "outputs": [
        {
          "output_type": "stream",
          "text": [
            "[['Red', 1, 'Grape'], ['Red', 1, 'Grape']]\n",
            "[['Green', 3, 'Apple'], ['Yellow', 3, 'Apple'], ['Yellow', 3, 'Lemon']]\n"
          ],
          "name": "stdout"
        }
      ]
    },
    {
      "metadata": {
        "id": "Dds1m1j1VXED",
        "colab_type": "code",
        "colab": {}
      },
      "cell_type": "code",
      "source": [
        "# this filtering process is working well so far"
      ],
      "execution_count": 0,
      "outputs": []
    },
    {
      "metadata": {
        "id": "UkV77XqlVhsV",
        "colab_type": "code",
        "colab": {
          "base_uri": "https://localhost:8080/",
          "height": 34
        },
        "outputId": "9cd184d7-3008-4a12-9092-c53733c0e48e"
      },
      "cell_type": "code",
      "source": [
        "# let's find the method that gives us the best partition we can perform\n",
        "# the one that will give us more information\n",
        "\n",
        "def find_best_split(rows):\n",
        "  best_gain = 0 #starting with zero\n",
        "  best_question = None\n",
        "  current_uncertainty = gini(rows)\n",
        "  n_features = len(rows[0]) - 1 #number of columns with features\n",
        "  for col in range(n_features): #best question for each feature\n",
        "    values = set([row[col] for row in rows]) #unique values in column\n",
        "    \n",
        "    for val in values:\n",
        "      \n",
        "      question = Question(col, val)\n",
        "    \n",
        "      true_rows, false_rows = partition(rows, question)\n",
        "    \n",
        "      # if there is no dataset division then move on\n",
        "      if len(true_rows) == 0 or len(false_rows) == 0:\n",
        "        continue\n",
        "    \n",
        "      gain = info_gain(true_rows, false_rows, current_uncertainty)\n",
        "    \n",
        "      if gain >= best_gain:\n",
        "         best_gain, best_question = gain, question\n",
        "      \n",
        "  return best_gain, best_question\n",
        "\n",
        "# we now have a method to get the best question for each feature\n",
        "\n",
        "best_gain, best_question = find_best_split(training_data)\n",
        "\n",
        "print(best_question)"
      ],
      "execution_count": 23,
      "outputs": [
        {
          "output_type": "stream",
          "text": [
            "Is diameter >= 3?\n"
          ],
          "name": "stdout"
        }
      ]
    },
    {
      "metadata": {
        "id": "ex96Sp6sW0oO",
        "colab_type": "code",
        "colab": {}
      },
      "cell_type": "code",
      "source": [
        "# now that we have the best value for each question\n",
        "# we can now classify our data into leaves from the branch\n",
        "\n",
        "class Leaf:\n",
        "  def __init__(self,rows):\n",
        "    self.predictions = class_counts(rows)\n",
        "\n",
        "class Decision_Node: #making nodes for each question to hold a reference\n",
        "  def __init__(self, question, true_branch, false_branch):\n",
        "    self.question = question\n",
        "    self.true_branch = true_branch\n",
        "    self.false_branch = false_branch\n",
        "\n",
        "def build_tree(rows): #using a recursion method to find each case\n",
        "  gain, question = find_best_split(rows)\n",
        "  \n",
        "  if gain == 0:\n",
        "    return Leaf(rows)\n",
        "  \n",
        "  true_rows, false_rows = partition(rows, question)\n",
        "  \n",
        "  true_branch = build_tree(true_rows)\n",
        "  \n",
        "  false_branch = build_tree(false_rows)\n",
        "  \n",
        "  return Decision_Node(question, true_branch, false_branch)"
      ],
      "execution_count": 0,
      "outputs": []
    },
    {
      "metadata": {
        "id": "nOp2qqilZT6T",
        "colab_type": "code",
        "colab": {}
      },
      "cell_type": "code",
      "source": [
        "def print_tree(node, spacing=\"\"):\n",
        "  # base case: we reached a leaf\n",
        "  if isinstance(node,Leaf):\n",
        "    print(spacing + 'Predict', node.predictions)\n",
        "    return\n",
        "  # print the question here\n",
        "  print(spacing + str(node.question))\n",
        "  \n",
        "  # call itself for the true branch case\n",
        "  print(spacing + '--> True:')\n",
        "  print_tree(node.true_branch, spacing + \"  \")\n",
        "  \n",
        "  # call itself for the false branch case\n",
        "  print(spacing + '--> False:')\n",
        "  print_tree(node.false_branch, spacing + \"  \")"
      ],
      "execution_count": 0,
      "outputs": []
    },
    {
      "metadata": {
        "id": "UZJLCC7_aQxF",
        "colab_type": "code",
        "colab": {
          "base_uri": "https://localhost:8080/",
          "height": 170
        },
        "outputId": "d7345de5-0bad-4823-8766-7056dec26ead"
      },
      "cell_type": "code",
      "source": [
        "my_tree = build_tree(training_data)\n",
        "print_tree(my_tree)"
      ],
      "execution_count": 30,
      "outputs": [
        {
          "output_type": "stream",
          "text": [
            "Is diameter >= 3?\n",
            "--> True:\n",
            "  Is Color == Yellow?\n",
            "  --> True:\n",
            "    Predict {'Apple': 1, 'Lemon': 1}\n",
            "  --> False:\n",
            "    Predict {'Apple': 1}\n",
            "--> False:\n",
            "  Predict {'Grape': 2}\n"
          ],
          "name": "stdout"
        }
      ]
    },
    {
      "metadata": {
        "id": "18AoVwqnaVWT",
        "colab_type": "code",
        "colab": {
          "base_uri": "https://localhost:8080/",
          "height": 34
        },
        "outputId": "2f70399e-6951-4c60-928c-5798b8498e77"
      },
      "cell_type": "code",
      "source": [
        "# setting the rules for recursion\n",
        "\n",
        "def classify(row, node):\n",
        "  if isinstance(node, Leaf):\n",
        "    return node.predictions\n",
        "  \n",
        "  #decide whether we follow true or false branch\n",
        "  \n",
        "  if node.question.match(row):\n",
        "    return classify(row, node.true_branch)\n",
        "  else:\n",
        "    return classify(row, node.false_branch)\n",
        "  \n",
        "classify(training_data[0], my_tree)"
      ],
      "execution_count": 31,
      "outputs": [
        {
          "output_type": "execute_result",
          "data": {
            "text/plain": [
              "{'Apple': 1}"
            ]
          },
          "metadata": {
            "tags": []
          },
          "execution_count": 31
        }
      ]
    },
    {
      "metadata": {
        "id": "zdDxKrODbiNO",
        "colab_type": "code",
        "colab": {
          "base_uri": "https://localhost:8080/",
          "height": 34
        },
        "outputId": "262ce423-27ea-4888-81a2-29183d7d76c0"
      },
      "cell_type": "code",
      "source": [
        "def print_leaf(counts):\n",
        "  total = sum(counts.values()) * 1.0\n",
        "  probs = {}\n",
        "  for lbl in counts.keys():\n",
        "    probs[lbl] = str(int(counts[lbl] / total * 100)) + '%'\n",
        "  return probs\n",
        "\n",
        "print_leaf(classify(training_data[0], my_tree))"
      ],
      "execution_count": 32,
      "outputs": [
        {
          "output_type": "execute_result",
          "data": {
            "text/plain": [
              "{'Apple': '100%'}"
            ]
          },
          "metadata": {
            "tags": []
          },
          "execution_count": 32
        }
      ]
    },
    {
      "metadata": {
        "id": "ZR7h02l4b7Px",
        "colab_type": "code",
        "colab": {
          "base_uri": "https://localhost:8080/",
          "height": 34
        },
        "outputId": "0809b8d4-d996-4b77-f7ca-3199583fd78d"
      },
      "cell_type": "code",
      "source": [
        "print_leaf(classify(training_data[1], my_tree))"
      ],
      "execution_count": 33,
      "outputs": [
        {
          "output_type": "execute_result",
          "data": {
            "text/plain": [
              "{'Apple': '50%', 'Lemon': '50%'}"
            ]
          },
          "metadata": {
            "tags": []
          },
          "execution_count": 33
        }
      ]
    },
    {
      "metadata": {
        "id": "cmwHCM6AcA4D",
        "colab_type": "code",
        "colab": {
          "base_uri": "https://localhost:8080/",
          "height": 85
        },
        "outputId": "c7ff4b26-bd3f-46bb-a4b3-9969c4b2b01a"
      },
      "cell_type": "code",
      "source": [
        "#testing prediction accuracy of our decision tree\n",
        "\n",
        "testing_data = [\n",
        "    ['Green', 3, 'Apple'],\n",
        "    ['Yellow', 4, 'Apple'],\n",
        "    ['Red', 1, 'Grape'],\n",
        "    ['Yellow', 3, 'Lemon']\n",
        "]\n",
        "\n",
        "for row in testing_data:\n",
        "  print('Actual %s. Predicted %s' % \n",
        "        (row[-1],print_leaf(classify(row,my_tree))))"
      ],
      "execution_count": 35,
      "outputs": [
        {
          "output_type": "stream",
          "text": [
            "Actual Apple. Predicted {'Apple': '100%'}\n",
            "Actual Apple. Predicted {'Apple': '50%', 'Lemon': '50%'}\n",
            "Actual Grape. Predicted {'Grape': '100%'}\n",
            "Actual Lemon. Predicted {'Apple': '50%', 'Lemon': '50%'}\n"
          ],
          "name": "stdout"
        }
      ]
    },
    {
      "metadata": {
        "id": "WVVBIZwNcqkY",
        "colab_type": "code",
        "colab": {}
      },
      "cell_type": "code",
      "source": [
        ""
      ],
      "execution_count": 0,
      "outputs": []
    }
  ]
}