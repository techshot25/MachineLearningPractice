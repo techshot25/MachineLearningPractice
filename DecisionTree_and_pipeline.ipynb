{
  "nbformat": 4,
  "nbformat_minor": 0,
  "metadata": {
    "colab": {
      "name": "MachineLearning.ipynb",
      "version": "0.3.2",
      "provenance": [],
      "collapsed_sections": [],
      "include_colab_link": true
    },
    "kernelspec": {
      "name": "python3",
      "display_name": "Python 3"
    }
  },
  "cells": [
    {
      "cell_type": "markdown",
      "metadata": {
        "id": "view-in-github",
        "colab_type": "text"
      },
      "source": [
        "<a href=\"https://colab.research.google.com/github/techshot25/MachineLearningPractice/blob/master/DecisionTree_and_pipeline.ipynb\" target=\"_parent\"><img src=\"https://colab.research.google.com/assets/colab-badge.svg\" alt=\"Open In Colab\"/></a>"
      ]
    },
    {
      "metadata": {
        "id": "IMEbV_abWvDI",
        "colab_type": "code",
        "outputId": "efb403eb-5150-4ccd-bd9a-1a00f0fec02f",
        "colab": {
          "base_uri": "https://localhost:8080/",
          "height": 34
        }
      },
      "cell_type": "code",
      "source": [
        "# using tree method to see how it works\n",
        "\n",
        "from sklearn import tree\n",
        "features = [[140,1],[130,1],[150,0],[170,0]]\n",
        "labels = [\"Apple\",\"Apple\",\"Orange\",\"Orange\"]\n",
        "clf = tree.DecisionTreeClassifier()\n",
        "clf = clf.fit(features, labels)\n",
        "print(clf.predict([[152,0]]))0"
      ],
      "execution_count": 0,
      "outputs": [
        {
          "output_type": "stream",
          "text": [
            "['Orange']\n"
          ],
          "name": "stdout"
        }
      ]
    },
    {
      "metadata": {
        "id": "93Px0CO0XwWn",
        "colab_type": "code",
        "outputId": "f2347efe-7d88-4000-d74e-3d9e2a116fdd",
        "colab": {
          "base_uri": "https://localhost:8080/",
          "height": 85
        }
      },
      "cell_type": "code",
      "source": [
        "from sklearn.datasets import load_iris\n",
        "import numpy as np\n",
        "from sklearn import tree\n",
        "\n",
        "iris = load_iris()\n",
        "print(iris.feature_names)\n",
        "print(iris.target_names)\n",
        "test_idx = [0,50,100]\n",
        "\n",
        "# Training data\n",
        "train_target = np.delete(iris.target, test_idx)\n",
        "train_data = np.delete(iris.data, test_idx, axis = 0)\n",
        "\n",
        "# Test data\n",
        "test_target = iris.target[test_idx]\n",
        "test_data = iris.data[test_idx]\n",
        "\n",
        "clf = tree.DecisionTreeClassifier()\n",
        "clf = clf.fit(train_data, train_target)\n",
        "\n",
        "print(test_target)\n",
        "print(clf.predict(test_data))\n",
        "\n",
        "\n",
        "\n",
        "\n",
        "#for i in range(len(iris.target)):\n",
        "#  print(\"Example {}: label {}, features {}\".format(i,iris.target[i],iris.data[i]))"
      ],
      "execution_count": 0,
      "outputs": [
        {
          "output_type": "stream",
          "text": [
            "['sepal length (cm)', 'sepal width (cm)', 'petal length (cm)', 'petal width (cm)']\n",
            "['setosa' 'versicolor' 'virginica']\n",
            "[0 1 2]\n",
            "[0 1 2]\n"
          ],
          "name": "stdout"
        }
      ]
    },
    {
      "metadata": {
        "id": "tXRA_F7sd3QQ",
        "colab_type": "code",
        "colab": {
          "base_uri": "https://localhost:8080/",
          "height": 85
        },
        "outputId": "26c960bf-427e-40e9-fe93-d055cfd3585f"
      },
      "cell_type": "code",
      "source": [
        "from sklearn import datasets\n",
        "iris = datasets.load_iris()\n",
        "\n",
        "x = iris.data\n",
        "y = iris.target\n",
        "\n",
        "from sklearn.model_selection import train_test_split\n",
        "x_train, x_test, y_train, y_test = train_test_split(x,y, test_size = 0.5)\n",
        "\n",
        "from sklearn import tree\n",
        "my_classifier = tree.DecisionTreeClassifier()\n",
        "\n",
        "my_classifier.fit(x_train,y_train)\n",
        "\n",
        "predictions = my_classifier.predict(x_test)\n",
        "print(predictions)\n",
        "\n",
        "# find accuracy of our predictions\n",
        "\n",
        "from sklearn.metrics import accuracy_score\n",
        "\n",
        "print(accuracy_score(y_test,predictions))"
      ],
      "execution_count": 5,
      "outputs": [
        {
          "output_type": "stream",
          "text": [
            "[0 1 0 0 1 2 0 2 0 1 1 2 2 0 0 0 0 2 2 2 1 0 1 1 2 2 1 2 1 2 2 0 0 1 0 0 2\n",
            " 0 1 1 0 2 2 1 2 0 1 2 1 2 2 0 1 2 2 0 0 1 2 2 2 0 1 1 1 1 1 0 1 2 1 1 2 1\n",
            " 0]\n",
            "0.9333333333333333\n"
          ],
          "name": "stdout"
        }
      ]
    },
    {
      "metadata": {
        "id": "Y7bd0X8xqJ7G",
        "colab_type": "code",
        "colab": {}
      },
      "cell_type": "code",
      "source": [
        ""
      ],
      "execution_count": 0,
      "outputs": []
    }
  ]
}